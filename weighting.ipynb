{
 "cells": [
  {
   "cell_type": "code",
   "execution_count": 10,
   "metadata": {
    "collapsed": false
   },
   "outputs": [
    {
     "name": "stdout",
     "output_type": "stream",
     "text": [
      "0.19.0\n"
     ]
    }
   ],
   "source": [
    "import numpy as np\n",
    "\n",
    "import scipy\n",
    "print(scipy.version.version)\n",
    "from scipy.optimize import nnls\n",
    "from scipy.optimize import lsq_linear\n",
    "from scipy.sparse import csr_matrix\n",
    "\n",
    "from utils.constants import TRAIN_DATA_PATH, TRAIN_LABELS_PATH\n",
    "from utils.data_utils import NaiveDataset"
   ]
  },
  {
   "cell_type": "code",
   "execution_count": 35,
   "metadata": {
    "collapsed": false
   },
   "outputs": [
    {
     "name": "stdout",
     "output_type": "stream",
     "text": [
      "40479\n"
     ]
    },
    {
     "data": {
      "text/plain": [
       "array([12315,   339,   862,   332,    98, 28431,  2089,   100,  4477,\n",
       "        3660,  2697,  7261, 37513,  8071,   340,   209,  7411])"
      ]
     },
     "execution_count": 35,
     "metadata": {},
     "output_type": "execute_result"
    }
   ],
   "source": [
    "train_dataset = NaiveDataset(TRAIN_DATA_PATH, TRAIN_LABELS_PATH)\n",
    "\n",
    "np.set_printoptions(threshold=np.inf)\n",
    "M_cpu = train_dataset.labels_tensor.cpu().numpy()\n",
    "w_vec, res = np.linalg.lstsq(M_cpu.T,np.ones((17,)))[0:2]\n",
    "np.sum(M_cpu,axis=0)"
   ]
  },
  {
   "cell_type": "code",
   "execution_count": 3,
   "metadata": {
    "collapsed": false
   },
   "outputs": [
    {
     "name": "stdout",
     "output_type": "stream",
     "text": [
      "uniform random probability:  2.470416759307295e-05\n",
      "\n",
      "\n",
      "max:  0.0151350798988\n",
      "max_abs:  0.0151350798988\n",
      "min:  -0.000422307913681\n",
      "min_abs:  4.30991283322e-06\n",
      "max/min:  -35.8389682231\n",
      "sum of all weights:  3.99992225721\n",
      "\n",
      "\n",
      "mean:  9.88147498014e-05\n",
      "stdev:  0.000982349294861\n"
     ]
    }
   ],
   "source": [
    "frac = 1/w_vec.shape[0]\n",
    "print(\"uniform random probability: \",frac)\n",
    "print(\"\\n\")\n",
    "print(\"max: \",max(w_vec))\n",
    "print(\"max_abs: \",max(abs(w_vec)))\n",
    "print(\"min: \",min(w_vec))\n",
    "print(\"min_abs: \",min(abs(w_vec)))\n",
    "print(\"max/min: \",max(w_vec)/min(w_vec))\n",
    "print(\"sum of all weights: \",np.sum(w_vec))\n",
    "print(\"\\n\")\n",
    "\n",
    "w_vec_mean = np.mean(w_vec)\n",
    "w_vec_stdev = np.std(w_vec)\n",
    "\n",
    "print(\"mean: \",np.mean(w_vec))\n",
    "print(\"stdev: \",np.std(w_vec))"
   ]
  },
  {
   "cell_type": "code",
   "execution_count": 4,
   "metadata": {
    "collapsed": false
   },
   "outputs": [
    {
     "name": "stdout",
     "output_type": "stream",
     "text": [
      "% of zeroed/negative training examples:  0.766520912078\n"
     ]
    }
   ],
   "source": [
    "w_vec_thresh = np.zeros_like(w_vec)\n",
    "w_vec_thresh[w_vec<=0] = 1\n",
    "w_vec_thresh[w_vec>0] = 0\n",
    "print(\"% of zeroed/negative training examples: \",np.sum(w_vec_thresh)*frac)"
   ]
  },
  {
   "cell_type": "code",
   "execution_count": 34,
   "metadata": {
    "collapsed": false
   },
   "outputs": [
    {
     "data": {
      "text/plain": [
       "array([ 30.42318239,   0.83747128,   2.12949925,   0.82017836,\n",
       "         0.24210084,  70.23641888,   5.16070061,   0.24704168,\n",
       "        11.06005583,   9.04172534,   6.662714  ,  17.93769609,\n",
       "        92.67274389,  19.93873366,   0.8399417 ,   0.5163171 ,  18.3082586 ])"
      ]
     },
     "execution_count": 34,
     "metadata": {},
     "output_type": "execute_result"
    }
   ],
   "source": [
    "np.dot(M_cpu.T,np.ones(w_vec.shape))/w_vec.shape[0]*100"
   ]
  },
  {
   "cell_type": "code",
   "execution_count": 36,
   "metadata": {
    "collapsed": false
   },
   "outputs": [
    {
     "name": "stdout",
     "output_type": "stream",
     "text": [
      "% of zeroed/negative training examples:  0.999629437486\n"
     ]
    },
    {
     "data": {
      "text/plain": [
       "array([ 0.00249545,  0.00168172,  0.00247042,  0.0016692 ,  0.00159409,\n",
       "        0.00328415,  0.00247042,  0.00169424,  0.00240782,  0.0024579 ,\n",
       "        0.00247042,  0.00324659,  0.00337179,  0.0024579 ,  0.00163164,\n",
       "        0.00163164,  0.00248294])"
      ]
     },
     "execution_count": 36,
     "metadata": {},
     "output_type": "execute_result"
    }
   ],
   "source": [
    "w_nnls, res = nnls(M_cpu.T,np.ones((17,)))[0:2]\n",
    "w_vec_thresh = np.zeros_like(w_nnls)\n",
    "w_vec_thresh[w_nnls<=0] = 1\n",
    "w_vec_thresh[w_nnls>0] = 0\n",
    "print(\"% of zeroed/negative training examples: \",np.sum(w_vec_thresh)*frac)\n",
    "np.dot(M_cpu.T,w_nnls)/w_vec.shape[0]*100"
   ]
  },
  {
   "cell_type": "code",
   "execution_count": 38,
   "metadata": {
    "collapsed": false
   },
   "outputs": [
    {
     "name": "stdout",
     "output_type": "stream",
     "text": [
      "The first-order optimality measure is less than `tol`.\n",
      "Number of iterations 34, initial cost 1.2921e+07, final cost 6.7095e-01, first-order optimality 1.74e-11.\n"
     ]
    }
   ],
   "source": [
    "M_sparse_T = csr_matrix(M_cpu.T)\n",
    "res_tuple = lsq_linear(M_sparse_T,np.ones((17,)),bounds=(frac/4,np.inf),verbose=1)"
   ]
  },
  {
   "cell_type": "code",
   "execution_count": 39,
   "metadata": {
    "collapsed": false
   },
   "outputs": [
    {
     "data": {
      "text/plain": [
       "array([ 21.84286194,  13.93340993,  21.2627741 ,  13.643366  ,\n",
       "        11.90310248,  29.17222612,  21.2627741 ,  14.22345385,\n",
       "        19.8125545 ,  20.97273018,  21.2627741 ,  28.30209436,\n",
       "        31.20253357,  20.97273018,  12.77323424,  12.77323424,  21.55281802])"
      ]
     },
     "execution_count": 39,
     "metadata": {},
     "output_type": "execute_result"
    }
   ],
   "source": [
    "w_lsq_lin = res_tuple['x']/np.sum(res_tuple['x'])*100\n",
    "np.dot(M_cpu.T,w_lsq_lin)"
   ]
  },
  {
   "cell_type": "code",
   "execution_count": null,
   "metadata": {
    "collapsed": true
   },
   "outputs": [],
   "source": []
  }
 ],
 "metadata": {
  "kernelspec": {
   "display_name": "Python 3",
   "language": "python",
   "name": "python3"
  },
  "language_info": {
   "codemirror_mode": {
    "name": "ipython",
    "version": 3
   },
   "file_extension": ".py",
   "mimetype": "text/x-python",
   "name": "python",
   "nbconvert_exporter": "python",
   "pygments_lexer": "ipython3",
   "version": "3.5.2"
  }
 },
 "nbformat": 4,
 "nbformat_minor": 0
}
